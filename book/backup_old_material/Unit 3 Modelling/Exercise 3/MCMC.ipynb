{
 "cells": [
  {
   "cell_type": "markdown",
   "metadata": {},
   "source": [
    "# Model Exercise 3: Calibration and Uncertainty\n",
    "\n",
    "In this exercise we will work further on the HBV model developed in exercise 2. A Monte Carlo loop will be created to obtain a parameter set with the highest Nash and Sutcliffe coefficient. In Part 1 you will calculate the NSE coefficient, in Part 2 the log(NSE). Compare both and see (and understand) what the difference is between them."
   ]
  },
  {
   "cell_type": "markdown",
   "metadata": {},
   "source": [
    "The Nash and Sutcliffe coefficient is calculated using the formula\n",
    "\n",
    "\n",
    "\\begin{equation}\n",
    "    N = 1 - \\frac{\\sum_{i=1}^{n}(Q_{o,i} - Q_{m,i})^2}{\\sum_{i=1}^{n}(O_{o,i} - \\bar{O}_{o})^2}\n",
    "\\end{equation}\n",
    "\n",
    "Where Q is discharge, the subscripts o and m stand for observed and modeled respectively, i is the time step, and the overbar indicates an average."
   ]
  },
  {
   "cell_type": "code",
   "execution_count": 26,
   "metadata": {},
   "outputs": [],
   "source": [
    "import numpy as np\n",
    "import pandas as pd \n",
    "import matplotlib.pyplot as plt\n",
    "from HBVMod_own import HBVMod\n",
    "from datetime import date\n"
   ]
  },
  {
   "cell_type": "markdown",
   "metadata": {},
   "source": [
    "in research cloud --> pas aan naar nette BMI"
   ]
  },
  {
   "cell_type": "markdown",
   "metadata": {},
   "source": [
    "First we import the forcing data from ```Forcing.txt```. This file contains the rainfall (P), discharge (Q) and potential evaporation (Ep) time series in mm/h."
   ]
  },
  {
   "cell_type": "code",
   "execution_count": 22,
   "metadata": {},
   "outputs": [],
   "source": [
    "data = pd.read_csv('Forcing.txt', skipinitialspace=True, delimiter='\\t', names=['year', 'month', 'day', 'P', 'Q', 'PE'])\n",
    "forcing = pd.DataFrame()\n",
    "forcing['P'] = data['P']\n",
    "forcing['PE'] = data['PE']\n",
    "forcing['Q'] = data['Q']\n",
    "forcing.index = data.apply(lambda x: date(int(x.year), int(x.month), int(x.day)), axis=1)\n",
    "forcing.index = pd.to_datetime(forcing.index, format='%Y-%m-%d')"
   ]
  },
  {
   "cell_type": "markdown",
   "metadata": {},
   "source": [
    "For each parameter a minimum and a maximm value are defined, these arrays will be used in the Monte Carlo simulation. \n",
    "Next to this, an initial storage array is created. "
   ]
  },
  {
   "cell_type": "code",
   "execution_count": null,
   "metadata": {},
   "outputs": [],
   "source": [
    "#                   Imax Ce Sumax beta Pmax   Tlag   Kf  Ks\n",
    "ParMinn = np.array([0,   0.2,  40,    .5,   .001,   0,     .01,  .0001])\n",
    "ParMaxn = np.array([8,    1,  800,   4,    .3,     10,    .1,   .01])\n",
    "Sin = np.array([0,  100,  0,  5  ])"
   ]
  },
  {
   "cell_type": "markdown",
   "metadata": {},
   "source": [
    "In the code cell below, you have to complete the lines to create a Monte Carlo Simulation. In this simulation, the NSE value should be calculated for 5000 different parameter sets.\n",
    "If the NSE is above 0.6, the parameter set and the NSE are added to array ```A```. "
   ]
  },
  {
   "cell_type": "code",
   "execution_count": null,
   "metadata": {},
   "outputs": [
    {
     "ename": "TypeError",
     "evalue": "'>' not supported between instances of 'ellipsis' and 'float'",
     "output_type": "error",
     "traceback": [
      "\u001b[0;31m---------------------------------------------------------------------------\u001b[0m",
      "\u001b[0;31mTypeError\u001b[0m                                 Traceback (most recent call last)",
      "Cell \u001b[0;32mIn[10], line 21\u001b[0m\n\u001b[1;32m     18\u001b[0m Par\u001b[38;5;241m=\u001b[39m\u001b[38;5;241m.\u001b[39m\u001b[38;5;241m.\u001b[39m\u001b[38;5;241m.\u001b[39m \u001b[38;5;66;03m# calculate the random parameter set\u001b[39;00m\n\u001b[1;32m     19\u001b[0m Obj \u001b[38;5;241m=\u001b[39m \u001b[38;5;241m.\u001b[39m\u001b[38;5;241m.\u001b[39m\u001b[38;5;241m.\u001b[39m \u001b[38;5;66;03m#call the model\u001b[39;00m\n\u001b[0;32m---> 21\u001b[0m \u001b[38;5;28;01mif\u001b[39;00m \u001b[43mObj\u001b[49m\u001b[38;5;241;43m>\u001b[39;49m\u001b[38;5;241;43m.6\u001b[39;49m:\n\u001b[1;32m     22\u001b[0m \tA[n_feasible,\u001b[38;5;241m0\u001b[39m:\u001b[38;5;241m8\u001b[39m]\u001b[38;5;241m=\u001b[39m Par\n\u001b[1;32m     23\u001b[0m \tA[n_feasible,\u001b[38;5;241m8\u001b[39m]\u001b[38;5;241m=\u001b[39mObj\n",
      "\u001b[0;31mTypeError\u001b[0m: '>' not supported between instances of 'ellipsis' and 'float'"
     ]
    }
   ],
   "source": [
    "# GLUE\n",
    "nmax = 5000\n",
    "A = np.zeros((nmax, 9))\n",
    "n_feasible = 0\n",
    "\n",
    "for n in range(1,nmax): \n",
    "\tRnum=... #generate a vector of random number\n",
    "\tPar=... # calculate the random parameter set\n",
    "\tObj = ... #call the model\n",
    "\n",
    "\tif Obj>.6:\n",
    "\t\tA[n_feasible,0:8]= Par\n",
    "\t\tA[n_feasible,8]=Obj\n",
    "\t\tn_feasible = n_feasible + 1\n",
    "\n",
    "#find the optimum\n",
    "#find the optimal parameter set\n",
    "\n",
    "\n",
    "Obj = HBVMod(Par,forcing,Sin, hydrograph='TRUE')"
   ]
  },
  {
   "cell_type": "markdown",
   "metadata": {},
   "source": [
    "Now array ```A``` contains all the parameter combinations which result in a NSE above 0.6. Plot each of the parameters with their NSE value. "
   ]
  },
  {
   "cell_type": "code",
   "execution_count": null,
   "metadata": {},
   "outputs": [],
   "source": []
  },
  {
   "cell_type": "markdown",
   "metadata": {},
   "source": [
    "Determine the optimal parameterset based on the NSE value and plot the hydrograph. Compare the modelled discharge with the observed discharge. "
   ]
  },
  {
   "cell_type": "markdown",
   "metadata": {},
   "source": [
    "# Part 2\n",
    "\n",
    "Determine now the optimal parameter set based on the log NSE in stead of the NSE value. What do you observe?\n"
   ]
  },
  {
   "cell_type": "code",
   "execution_count": null,
   "metadata": {},
   "outputs": [],
   "source": []
  },
  {
   "cell_type": "code",
   "execution_count": null,
   "metadata": {},
   "outputs": [],
   "source": []
  },
  {
   "cell_type": "code",
   "execution_count": null,
   "metadata": {},
   "outputs": [],
   "source": []
  }
 ],
 "metadata": {
  "kernelspec": {
   "display_name": "Python 3 (ipykernel)",
   "language": "python",
   "name": "python3"
  },
  "language_info": {
   "codemirror_mode": {
    "name": "ipython",
    "version": 3
   },
   "file_extension": ".py",
   "mimetype": "text/x-python",
   "name": "python",
   "nbconvert_exporter": "python",
   "pygments_lexer": "ipython3",
   "version": "3.12.4"
  }
 },
 "nbformat": 4,
 "nbformat_minor": 4
}
